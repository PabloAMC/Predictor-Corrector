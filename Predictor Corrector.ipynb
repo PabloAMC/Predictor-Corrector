{
 "cells": [
  {
   "cell_type": "markdown",
   "metadata": {},
   "source": [
    "# Interior Point Predictor Corrector example"
   ]
  },
  {
   "cell_type": "markdown",
   "metadata": {},
   "source": [
    "This notebook will run an example of the Interior Point Predictor-Corrector algorithm. "
   ]
  },
  {
   "cell_type": "code",
   "execution_count": 1,
   "metadata": {},
   "outputs": [],
   "source": [
    "import numpy as np\n",
    "import math\n",
    "import matplotlib.pyplot as plt"
   ]
  },
  {
   "cell_type": "markdown",
   "metadata": {},
   "source": [
    "Let us define the problem we want to solve"
   ]
  },
  {
   "cell_type": "code",
   "execution_count": 2,
   "metadata": {},
   "outputs": [
    {
     "name": "stdout",
     "output_type": "stream",
     "text": [
      "128\n"
     ]
    }
   ],
   "source": [
    "m=2\n",
    "n=2\n",
    "A=np.array([[-1, 1],[1,1]])\n",
    "b=np.array([[0],[2]])\n",
    "c=np.array([[0],[1]])\n",
    "print(2**7)"
   ]
  },
  {
   "cell_type": "markdown",
   "metadata": {},
   "source": [
    "Starting point"
   ]
  },
  {
   "cell_type": "code",
   "execution_count": 3,
   "metadata": {},
   "outputs": [],
   "source": [
    "x0=np.array([[1],[1]])\n",
    "z0=np.array([[1],[1]])\n",
    "y0=np.array([[0],[0]])"
   ]
  },
  {
   "cell_type": "markdown",
   "metadata": {},
   "source": [
    "Additional calculated parameters"
   ]
  },
  {
   "cell_type": "code",
   "execution_count": 4,
   "metadata": {},
   "outputs": [],
   "source": [
    "#Additional parameters\n",
    "bbar=b-np.matmul(A,x0)\n",
    "cbar=c-np.matmul(np.transpose(A),y0)-z0\n",
    "gbar=np.matmul(np.transpose(c),x0)+1-np.matmul(np.transpose(b),y0)"
   ]
  },
  {
   "cell_type": "markdown",
   "metadata": {},
   "source": [
    "Define x, z, tau and kappa"
   ]
  },
  {
   "cell_type": "code",
   "execution_count": 5,
   "metadata": {},
   "outputs": [],
   "source": [
    "#Initialization\n",
    "z=z0\n",
    "x=x0\n",
    "y=y0\n",
    "tau=np.array([[1]])\n",
    "kappa=np.array([[1]])\n",
    "theta=np.array([[1]])"
   ]
  },
  {
   "cell_type": "raw",
   "metadata": {},
   "source": [
    "Matrix assembly"
   ]
  },
  {
   "cell_type": "code",
   "execution_count": 6,
   "metadata": {},
   "outputs": [],
   "source": [
    "def CalculateM(A,b,c,bbar,cbar,gbar,x,z,tau,kappa):\n",
    "    n=len(c)\n",
    "    m=len(b)\n",
    "    M=np.block([\n",
    "        [np.zeros((m,m)), A, -b, bbar, np.zeros((m,n+1))],\n",
    "        [-np.transpose(A), np.zeros((n,n)), c, -cbar, -np.identity(n), np.zeros((n,1))],\n",
    "        [np.transpose(b),-np.transpose(c), np.zeros(1), gbar, np.zeros((1,n)), -np.identity(1)],\n",
    "        [-np.transpose(bbar),np.transpose(cbar),-gbar,np.zeros((1, n+2))],\n",
    "        [np.zeros((n,m)), np.diag(np.transpose(z)[0]), np.zeros((n,2)), np.diag(np.transpose(x)[0]), np.zeros((n,1))],\n",
    "        [np.zeros((1,n+m)), kappa, np.zeros((1, 1+n)), tau]\n",
    "    ])\n",
    "    return M"
   ]
  },
  {
   "cell_type": "markdown",
   "metadata": {},
   "source": [
    "Define the f vector"
   ]
  },
  {
   "cell_type": "code",
   "execution_count": 7,
   "metadata": {},
   "outputs": [],
   "source": [
    "def Calculatef(gamma,x,z,tau,kappa):\n",
    "    n=len(x)\n",
    "    mu=(np.matmul(np.transpose(x),z)+np.matmul(tau,kappa))/(n+1)\n",
    "    f=np.block([\n",
    "        [np.zeros((m,1))],\n",
    "        [np.zeros((n,1))],\n",
    "        [0],\n",
    "        [0],\n",
    "        [gamma*mu*np.ones((n,1))-np.matmul(np.diag(np.transpose(x)[0]),z)],\n",
    "        [gamma*mu-np.matmul(tau,kappa)],\n",
    "    ])\n",
    "    return f"
   ]
  },
  {
   "cell_type": "markdown",
   "metadata": {},
   "source": [
    "Define termination criteria for termination"
   ]
  },
  {
   "cell_type": "code",
   "execution_count": 8,
   "metadata": {},
   "outputs": [],
   "source": [
    "epsilon1=.001\n",
    "epsilon2=.001\n",
    "epsilon3=.001"
   ]
  },
  {
   "cell_type": "markdown",
   "metadata": {},
   "source": [
    "Define the neighbour"
   ]
  },
  {
   "cell_type": "code",
   "execution_count": 9,
   "metadata": {},
   "outputs": [],
   "source": [
    "def Isinneighbourhood(d,beta):\n",
    "    #We decompose the vector d\n",
    "    y,x,tau,theta,z,kappa=Decompose(d)\n",
    "    #Calculation of whether d is in the neighbour of the central path\n",
    "    vector=np.block([\n",
    "        [np.matmul(np.diag(np.transpose(x)[0]),z)],\n",
    "        [np.matmul(tau,kappa)]\n",
    "    ])\n",
    "    mu=(np.matmul(np.transpose(x),z)+np.matmul(tau,kappa))/(len(x)+1)\n",
    "    vector -= mu*np.ones((len(x)+1,1))\n",
    "    norm=np.linalg.norm(vector,2)\n",
    "    if norm<=beta*mu:\n",
    "        return True\n",
    "    else:\n",
    "        return False"
   ]
  },
  {
   "cell_type": "code",
   "execution_count": 10,
   "metadata": {},
   "outputs": [],
   "source": [
    "#def acceptable(d0,d,delta,beta):\n",
    "    #this function returns d+delta*d0 if the point is in the neighbour and 0 otherwise\n",
    "    #return (d0+delta*d)*Isinneighbourhood(d0+delta*d,beta)"
   ]
  },
  {
   "cell_type": "code",
   "execution_count": 11,
   "metadata": {},
   "outputs": [],
   "source": [
    "def Predict(M,f,d0):\n",
    "    d=np.linalg.solve(M,f)\n",
    "    delta = np.linspace(0, 1)\n",
    "    acceptable = lambda delta: delta*Isinneighbourhood(d0+delta*d,.5)\n",
    "    deltamax=max(delta, key=acceptable)\n",
    "    return d0+deltamax*d"
   ]
  },
  {
   "cell_type": "code",
   "execution_count": 12,
   "metadata": {},
   "outputs": [],
   "source": [
    "def Correct(M,f,d0):\n",
    "    d=np.linalg.solve(M,f)\n",
    "    return d+d0"
   ]
  },
  {
   "cell_type": "code",
   "execution_count": 13,
   "metadata": {},
   "outputs": [],
   "source": [
    "def Decompose(d): #Extracts (y,x,tau,theta,z,kappa) from d\n",
    "    y=d[0:m]\n",
    "    x=d[m:m+n]\n",
    "    tau=d[m+n]\n",
    "    theta=d[m+n+1]\n",
    "    z=d[m+n+2:m+2*n+2]\n",
    "    kappa=d[m+2*n+2]\n",
    "    return y,x,tau,theta,z,kappa"
   ]
  },
  {
   "cell_type": "code",
   "execution_count": 14,
   "metadata": {},
   "outputs": [],
   "source": [
    "def Compose(y,x,tau,theta,z,kappa): #Creates d from (y,x,tau,theta,z,kappa)\n",
    "    d=np.block([\n",
    "        [y],\n",
    "        [x],\n",
    "        [tau],\n",
    "        [theta],\n",
    "        [z],\n",
    "        [kappa]\n",
    "    ])\n",
    "    return d"
   ]
  },
  {
   "cell_type": "code",
   "execution_count": 15,
   "metadata": {},
   "outputs": [
    {
     "name": "stdout",
     "output_type": "stream",
     "text": [
      "2.0 1.0 1.0\n",
      "Iteration : 0\n",
      "x/tau =  [[1.]\n",
      " [1.]]\n",
      "y/tau =  [[0.]\n",
      " [0.]]\n",
      "z/tau =  [[1.]\n",
      " [1.]]\n",
      "[[ 0.]\n",
      " [ 0.]\n",
      " [ 0.]\n",
      " [ 0.]\n",
      " [ 0.]\n",
      " [ 0.]\n",
      " [-1.]\n",
      " [-1.]\n",
      " [-1.]]\n",
      "[[ 0.  0. -1.  1.  0.  0.  0.  0.  0.]\n",
      " [ 0.  0.  1.  1. -2.  0.  0.  0.  0.]\n",
      " [ 1. -1.  0.  0.  0.  1. -1. -0.  0.]\n",
      " [-1. -1.  0.  0.  1.  0. -0. -1.  0.]\n",
      " [ 0.  2.  0. -1.  0.  2.  0.  0. -1.]\n",
      " [ 0.  0. -1.  0. -2.  0.  0.  0.  0.]\n",
      " [ 0.  0.  1.  0.  0.  0.  1.  0.  0.]\n",
      " [ 0.  0.  0.  1.  0.  0.  0.  1.  0.]\n",
      " [ 0.  0.  0.  0.  1.  0.  0.  0.  1.]]\n",
      "[[0.]\n",
      " [0.]\n",
      " [0.]\n",
      " [0.]\n",
      " [0.]\n",
      " [0.]\n",
      " [0.]\n",
      " [0.]\n",
      " [0.]]\n",
      "[[ 0.  0. -1.  1.  0.  0.  0.  0.  0.]\n",
      " [ 0.  0.  1.  1. -2.  0.  0.  0.  0.]\n",
      " [ 1. -1.  0.  0.  0.  1. -1. -0.  0.]\n",
      " [-1. -1.  0.  0.  1.  0. -0. -1.  0.]\n",
      " [ 0.  2.  0. -1.  0.  2.  0.  0. -1.]\n",
      " [ 0.  0. -1.  0. -2.  0.  0.  0.  0.]\n",
      " [ 0.  0.  0.  0.  0.  0.  1.  0.  0.]\n",
      " [ 0.  0.  0.  0.  0.  0.  0.  1.  0.]\n",
      " [ 0.  0.  0.  0.  0.  0.  0.  0.  1.]]\n",
      "0.0 0.0 1.0\n",
      "Iteration : 1\n",
      "x/tau =  [[1.]\n",
      " [1.]]\n",
      "y/tau =  [[0.5]\n",
      " [0.5]]\n",
      "z/tau =  [[0.]\n",
      " [0.]]\n",
      "Success, iteration: 1\n"
     ]
    }
   ],
   "source": [
    "#Main program\n",
    "iteration=0\n",
    "results={}\n",
    "while True:\n",
    "    #Check if we can terminate\n",
    "    c1=float(np.matmul(np.transpose(x),z)/np.matmul(tau,tau))\n",
    "    c2=float((theta/tau)*np.linalg.norm(np.concatenate([bbar,cbar]),2))\n",
    "    c3=float(tau)\n",
    "\n",
    "    print(c1,c2,c3)\n",
    "    print('Iteration :',iteration)\n",
    "    print('x/tau = ',x/tau )\n",
    "    print('y/tau = ',y/tau )\n",
    "    print('z/tau = ',z/tau )\n",
    "    results[iteration]=(x/tau,y/tau,z/tau)\n",
    "\n",
    "    if (abs(c1)<=epsilon1 and abs(c2)<=epsilon2):\n",
    "        print('Success, iteration:', iteration)\n",
    "        break\n",
    "    elif (abs(c3)<=epsilon3):\n",
    "        print('No solution, iteration:', iteration)\n",
    "        break\n",
    "\n",
    "    #Main iteration\n",
    "    iteration+=1\n",
    "\n",
    "    #Predict step\n",
    "    f=Calculatef(0,x,z,tau,kappa)\n",
    "    print(f)\n",
    "    M=CalculateM(A,b,c,bbar,cbar,gbar,x,z,tau,kappa)\n",
    "    print(M)\n",
    "    d0=Compose(y,x,tau,theta,z,kappa)\n",
    "    d0=Predict(M,f,d0)\n",
    "    y,x,tau,theta,z,kappa=Decompose(d0)\n",
    "\n",
    "    #Correct step\n",
    "    f=Calculatef(1,x,z,tau,kappa)\n",
    "    print(f)\n",
    "    M=CalculateM(A,b,c,bbar,cbar,gbar,x,z,tau,kappa)\n",
    "    print(M)\n",
    "    d0=Compose(y,x,tau,theta,z,kappa)\n",
    "    d0=Correct(M,f,d0)\n",
    "    y,x,tau,theta,z,kappa=Decompose(d0)"
   ]
  },
  {
   "cell_type": "code",
   "execution_count": 16,
   "metadata": {},
   "outputs": [
    {
     "name": "stdout",
     "output_type": "stream",
     "text": [
      "[1.0, 1.0] [1.0, 1.0]\n",
      "[0.0, 0.5] [0.0, 0.5]\n",
      "[1.0, 0.0] [1.0, 0.0]\n"
     ]
    },
    {
     "data": {
      "image/png": "[encoded data removed]",
      "text/plain": [
       "<Figure size 432x288 with 1 Axes>"
      ]
     },
     "metadata": {
      "needs_background": "light"
     },
     "output_type": "display_data"
    }
   ],
   "source": [
    "xx=[]\n",
    "xy=[]\n",
    "yx=[]\n",
    "yy=[]\n",
    "zx=[]\n",
    "zy=[]\n",
    "for i in range(iteration+1):\n",
    "    xx.append(float(results[i][0][0]))\n",
    "    xy.append(float(results[i][0][1]))\n",
    "    yx.append(float(results[i][1][0]))\n",
    "    yy.append(float(results[i][1][1]))\n",
    "    zx.append(float(results[i][2][0]))\n",
    "    zy.append(float(results[i][2][1]))\n",
    "print(xx,xy)\n",
    "print(yx,yy)\n",
    "print(zx,zy)\n",
    "plt.plot(xy,xx,'ro') #x is depicted in red\n",
    "plt.plot(yy,yx,'bo') #y is depicted in blue\n",
    "plt.plot(zy,zx,'go') #z is depicted in green\n",
    "#print(results[0][0])\n",
    "\n",
    "\n",
    "s=np.linspace(0,2,10)\n",
    "f1=s  #This functions are encoded in A and b, if A and b change, so must this functions\n",
    "f2=2-s #\n",
    "plt.plot(f1,s)\n",
    "plt.plot(f2,s)\n",
    "plt.show()"
   ]
  }
 ],
 "metadata": {
  "kernelspec": {
   "display_name": "Python 3",
   "language": "python",
   "name": "python3"
  },
  "language_info": {
   "codemirror_mode": {
    "name": "ipython",
    "version": 3
   },
   "file_extension": ".py",
   "mimetype": "text/x-python",
   "name": "python",
   "nbconvert_exporter": "python",
   "pygments_lexer": "ipython3",
   "version": "3.7.1"
  }
 },
 "nbformat": 4,
 "nbformat_minor": 2
}
